{
 "cells": [
  {
   "cell_type": "markdown",
   "metadata": {},
   "source": [
    "# Web Mining and Applied NLP (44-620)\n",
    "\n",
    "## Python Notebooks, Basics, and Data Structures\n",
    "\n",
    "### Student Name: Harinya Potluri\n",
    "\n",
    "Perform the tasks described in the Markdown cells below.  When you have completed the assignment make sure your code cells have all been run (and have output beneath them) and ensure you have committed and pushed ALL of your changes to your assignment repository.\n",
    "\n",
    "Every question that requires you to write code will have a code cell underneath it; you may either write your entire solution in that cell or write it in a python file (`.py`), then import and run the appropriate code to answer the question.\n",
    "\n",
    "Do not use external modules (`math`, etc) for this assignment unless you are explicitly instructed to, though you may use built in python functions (`min`, `max`, etc) as you wish."
   ]
  },
  {
   "cell_type": "markdown",
   "metadata": {},
   "source": [
    "1. Modify the Markdown cell above to put your name after \"Student Name:\"; you will be expected to do this in all assignments presented in this format for this class."
   ]
  },
  {
   "cell_type": "markdown",
   "metadata": {},
   "source": [
    "2. Write code that divides any two numbers, stores the result in a variable, and prints the result with an appropriate label."
   ]
  },
  {
   "cell_type": "code",
   "execution_count": 1,
   "metadata": {},
   "outputs": [
    {
     "data": {
      "text/plain": [
       "2.0"
      ]
     },
     "execution_count": 1,
     "metadata": {},
     "output_type": "execute_result"
    }
   ],
   "source": [
    "test = 10/5\n",
    "test"
   ]
  },
  {
   "cell_type": "markdown",
   "metadata": {},
   "source": [
    "3. Using loops (and potentially conditionals), write Python code that prints the factorial of each integer from 1 through 10 (which you can store in a variable if you want). The factorial of an integer is the product of all of the integers of 1 through the number. Print the result with an appropriate label."
   ]
  },
  {
   "cell_type": "code",
   "execution_count": 3,
   "metadata": {},
   "outputs": [
    {
     "name": "stdout",
     "output_type": "stream",
     "text": [
      "Factorial of 1 is: 1\n",
      "Factorial of 2 is: 2\n",
      "Factorial of 3 is: 6\n",
      "Factorial of 4 is: 24\n",
      "Factorial of 5 is: 120\n",
      "Factorial of 6 is: 720\n",
      "Factorial of 7 is: 5040\n",
      "Factorial of 8 is: 40320\n",
      "Factorial of 9 is: 362880\n",
      "Factorial of 10 is: 3628800\n"
     ]
    }
   ],
   "source": [
    "# Function to calculate factorial\n",
    "def factorial(n):\n",
    "    if n == 0 or n == 1:\n",
    "        return 1\n",
    "    else:\n",
    "        fact = 1\n",
    "        for i in range(2, n + 1):\n",
    "            fact *= i\n",
    "        return fact\n",
    "\n",
    "# Loop to calculate and print factorial for integers from 1 to 10\n",
    "for i in range(1, 11):\n",
    "    print(f\"Factorial of {i} is: {factorial(i)}\")"
   ]
  },
  {
   "cell_type": "markdown",
   "metadata": {},
   "source": [
    "4. Write a python function that takes a single parameter and calculates and returns the average (mean) of the values in the parameter (which you may assume is iterable).  Show that your function works by printing the result of calling the function on the list in the cell below."
   ]
  },
  {
   "cell_type": "code",
   "execution_count": 5,
   "metadata": {},
   "outputs": [
    {
     "name": "stdout",
     "output_type": "stream",
     "text": [
      "Average: 0.0\n"
     ]
    }
   ],
   "source": [
    "def calculate_average(values):\n",
    "    # Check if the list is empty\n",
    "    if not values:\n",
    "        return None\n",
    "    \n",
    "    # Calculate the sum of all values in the list\n",
    "    total = sum(values)\n",
    "    \n",
    "    # Calculate the average\n",
    "    average = total / len(values)\n",
    "    \n",
    "    return average\n",
    "\n",
    "# Call the function with a list of numbers\n",
    "testlist = [1,-1,2,-2,3,-3,4,-4]\n",
    "result = calculate_average(testlist)\n",
    "print(\"Average:\", result)\n"
   ]
  },
  {
   "cell_type": "markdown",
   "metadata": {},
   "source": [
    "5. Using your mean function above, write a function that calculates the variance of the list of numbers (see https://en.wikipedia.org/wiki/Variance for more information on the formula). In short:\n",
    "* subtract the mean of the elements in the list from every element in the list; store these values in a new list\n",
    "* square every element in the new list and sum the elements together\n",
    "* divide the resulting number by N (where N is the length of the original list)\n",
    "\n",
    "Show the result of calling your function in the lists in the code cell. You must use one or more list comprehensions or map/filter in your code.\n"
   ]
  },
  {
   "cell_type": "code",
   "execution_count": 12,
   "metadata": {},
   "outputs": [
    {
     "name": "stdout",
     "output_type": "stream",
     "text": [
      "Variance of list1: 1.13973309\n",
      "Variance of list2: 0.9257232841\n"
     ]
    }
   ],
   "source": [
    "def calculate_mean(values):\n",
    "    if not values:\n",
    "        return None\n",
    "    total = sum(values)\n",
    "    return total / len(values)\n",
    "\n",
    "def calculate_variance(numbers):\n",
    "    # Calculate the mean\n",
    "    mean = calculate_mean(numbers)\n",
    "    \n",
    "    # Subtract the mean from every element in the list and store in a new list\n",
    "    differences = [(x - mean) for x in numbers]\n",
    "    \n",
    "    # Square every element in the new list\n",
    "    squared_differences = [(x ** 2) for x in differences]\n",
    "    \n",
    "    # Sum the squared differences\n",
    "    sum_squared_diff = sum(squared_differences)\n",
    "    \n",
    "    # Divide the sum by the length of the original list\n",
    "    variance = sum_squared_diff / len(numbers)\n",
    "    \n",
    "    return variance\n",
    "\n",
    "# Lists of numbers\n",
    "list1 = [ 5.670e-1, -1.480e+0, -5.570e-1, -1.470e+0, 7.340e-1, 1.050e+0, 4.480e-1, 2.570e-1, -1.970e+0, -1.460e+0]\n",
    "list2 = [-1.780e+0, 2.640e-1, 1.160e+0, 9.080e-1, 1.780e+0, 1.080e+0, 1.050e+0, -4.630e-2, 1.520e+0, 5.350e-1]\n",
    "# the variances of both lists should be relatively close to 1 (off by less than .15)\n",
    "\n",
    "# Calculate variances using the function\n",
    "variance_list1 = calculate_variance(list1)\n",
    "variance_list2 = calculate_variance(list2)\n",
    "\n",
    "print(\"Variance of list1:\", variance_list1)\n",
    "print(\"Variance of list2:\", variance_list2)"
   ]
  },
  {
   "cell_type": "markdown",
   "metadata": {},
   "source": [
    "6. Create a list with at least 15 elements in it. Use list slicing to print the following:\n",
    "* The first 5 elements of the list\n",
    "* The last 5 elements of the list\n",
    "* The list reversed (hint, show the entire list with a stride of -1)\n",
    "* Every second element in the list\n",
    "* Every third element in the list (stride of 3)"
   ]
  },
  {
   "cell_type": "code",
   "execution_count": 6,
   "metadata": {},
   "outputs": [
    {
     "name": "stdout",
     "output_type": "stream",
     "text": [
      "First 5 elements: [1, 2, 3, 4, 5]\n",
      "Last 5 elements: [11, 12, 13, 14, 15]\n",
      "Reversed list: [15, 14, 13, 12, 11, 10, 9, 8, 7, 6, 5, 4, 3, 2, 1]\n",
      "Every second element: [1, 3, 5, 7, 9, 11, 13, 15]\n",
      "Every third element: [1, 4, 7, 10, 13]\n"
     ]
    }
   ],
   "source": [
    "# Create a list with at least 15 elements\n",
    "my_list = [1, 2, 3, 4, 5, 6, 7, 8, 9, 10, 11, 12, 13, 14, 15]\n",
    "\n",
    "# Print the first 5 elements of the list\n",
    "print(\"First 5 elements:\", my_list[:5])\n",
    "\n",
    "# Print the last 5 elements of the list\n",
    "print(\"Last 5 elements:\", my_list[-5:])\n",
    "\n",
    "# Print the list reversed\n",
    "print(\"Reversed list:\", my_list[::-1])\n",
    "\n",
    "# Print every second element in the list\n",
    "print(\"Every second element:\", my_list[::2])\n",
    "\n",
    "# Print every third element in the list\n",
    "print(\"Every third element:\", my_list[::3])"
   ]
  },
  {
   "cell_type": "markdown",
   "metadata": {},
   "source": [
    "7. Build a dictionary that contains the following information about this class (with appropriate names as keys):\n",
    "* The name\n",
    "* The course number\n",
    "* The semester/term in which you are taking this course\n",
    "* The number of credit hours this course counts for\n",
    "* A list of the course learning objectives\n",
    "\n",
    "The majority of this information can be found in the syllabus. Print the dictionary."
   ]
  },
  {
   "cell_type": "code",
   "execution_count": 7,
   "metadata": {},
   "outputs": [
    {
     "name": "stdout",
     "output_type": "stream",
     "text": [
      "Class Information:\n",
      "name: Web Mining and Applied Natural Language Processing\n",
      "course_number: 44-620\n",
      "semester: Spring 2024\n",
      "credit_hours: 3\n",
      "learning_objectives: ['Manage Python libraries and packages.', 'Interact with hosted Version Control Systems (e.g. Git and GitHub).', 'Programmatically obtain and transform data from web-based APIs and HTML pages into a usable form.', 'Describe the steps in a basic Natural Language Processing (NLP) Pipeline.', 'Use preexisting tools and software libraries to perform some NLP, such as sentiment analysis.', 'Explain results and conclusions drawn from visualized information.']\n"
     ]
    }
   ],
   "source": [
    "# Build a dictionary with class information\n",
    "class_info = {\n",
    "    \"name\": \"Web Mining and Applied Natural Language Processing\",\n",
    "    \"course_number\": \"44-620\",\n",
    "    \"semester\": \"Spring 2024\",\n",
    "    \"credit_hours\": 3,\n",
    "    \"learning_objectives\": [\n",
    "        \"Manage Python libraries and packages.\",\n",
    "        \"Interact with hosted Version Control Systems (e.g. Git and GitHub).\",\n",
    "        \"Programmatically obtain and transform data from web-based APIs and HTML pages into a usable form.\",\n",
    "        \"Describe the steps in a basic Natural Language Processing (NLP) Pipeline.\",\n",
    "        \"Use preexisting tools and software libraries to perform some NLP, such as sentiment analysis.\",\n",
    "        \"Explain results and conclusions drawn from visualized information.\"\n",
    "    ]\n",
    "}\n",
    "\n",
    "# Print the dictionary\n",
    "print(\"Class Information:\")\n",
    "for key, value in class_info.items():\n",
    "    print(f\"{key}: {value}\")"
   ]
  },
  {
   "cell_type": "markdown",
   "metadata": {},
   "source": [
    "8.  Given the dictionary defined in the code cell below, print the list of level 3 spells the character has."
   ]
  },
  {
   "cell_type": "code",
   "execution_count": 9,
   "metadata": {},
   "outputs": [
    {
     "name": "stdout",
     "output_type": "stream",
     "text": [
      "Level 3 Spells:\n",
      "['Mass Healing Word', 'Nondetection', 'Revivify', 'Feign Death', 'Speak with Dead']\n"
     ]
    }
   ],
   "source": [
    "player_character = {'name': 'Kitab',\n",
    "                   'class': [('Cleric: Knowledge', 7)],\n",
    "                   'spells': {'cantrip': ['Guidance', 'Light', 'Thaumaturgy', 'Toll the Dead', 'Word of Radiance'],\n",
    "                             'level 1': ['Command', 'Detect Magic', 'Healing Word', 'Identify', 'Sleep'],\n",
    "                             'level 2': ['Augury', 'Calm Emotions', 'Command', 'Invisibility', 'Lesser Restoration'],\n",
    "                             'level 3': ['Mass Healing Word', 'Nondetection', 'Revivify', 'Feign Death', 'Speak with Dead'],\n",
    "                             'level 4': ['Banishment', 'Confusion']}\n",
    "                   }\n",
    "# Print the list of level 3 spells\n",
    "print(\"Level 3 Spells:\")\n",
    "print(player_character['spells']['level 3'])"
   ]
  },
  {
   "cell_type": "markdown",
   "metadata": {},
   "source": [
    "9. Write code to determine the number of unique elements in the list below.  You MUST use a set in finding your solution.  Print the number of unique values in the list with an appropriate label."
   ]
  },
  {
   "cell_type": "code",
   "execution_count": 8,
   "metadata": {},
   "outputs": [
    {
     "name": "stdout",
     "output_type": "stream",
     "text": [
      "Number of unique values in the list: 12\n"
     ]
    }
   ],
   "source": [
    "# List containing elements\n",
    "values = [10, 11, 10, 8, 1, 12, 0, 1, 6, 5, 5, 13, 6, 15, 0, 0, 1, 1, 9, 7]\n",
    "\n",
    "# Convert the list to a set to get unique elements\n",
    "unique_elements = set(values)\n",
    "\n",
    "# Calculate the number of unique elements\n",
    "num_unique_elements = len(unique_elements)\n",
    "\n",
    "# Print the number of unique values with an appropriate label\n",
    "print(\"Number of unique values in the list:\", num_unique_elements)\n"
   ]
  },
  {
   "cell_type": "markdown",
   "metadata": {},
   "source": [
    "10. Create a new Jupyter Notebook (the name of the notebook should be your S number). Add a Markdown cell that contains your name. Add a Code cell and write Python that uses loops to draw the following pattern:\n",
    "\n",
    "```\n",
    "*      *\n",
    "**    **\n",
    "***  ***\n",
    "********\n",
    "```\n",
    "Make sure to add and submit both the new notebook and the changes to this notebook for this assignment."
   ]
  }
 ],
 "metadata": {
  "kernelspec": {
   "display_name": "Python 3",
   "language": "python",
   "name": "python3"
  },
  "language_info": {
   "codemirror_mode": {
    "name": "ipython",
    "version": 3
   },
   "file_extension": ".py",
   "mimetype": "text/x-python",
   "name": "python",
   "nbconvert_exporter": "python",
   "pygments_lexer": "ipython3",
   "version": "3.11.4"
  }
 },
 "nbformat": 4,
 "nbformat_minor": 4
}
