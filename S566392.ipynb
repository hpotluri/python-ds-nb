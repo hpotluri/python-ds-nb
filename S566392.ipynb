{
 "cells": [
  {
   "cell_type": "markdown",
   "metadata": {},
   "source": [
    "Harinya Potluri"
   ]
  },
  {
   "cell_type": "code",
   "execution_count": 1,
   "metadata": {},
   "outputs": [
    {
     "name": "stdout",
     "output_type": "stream",
     "text": [
      "*      *\n",
      "**    **\n",
      "***  ***\n",
      "********\n"
     ]
    }
   ],
   "source": [
    "# Define the number of rows for the pattern\n",
    "num_rows = 4\n",
    "\n",
    "# Outer loop for rows\n",
    "for i in range(num_rows):\n",
    "    # Inner loop for columns\n",
    "    for j in range(i + 1):\n",
    "        print(\"*\", end=\"\")\n",
    "    \n",
    "    # Additional spaces between the two halves of the pattern\n",
    "    for k in range(2 * (num_rows - i - 1)):\n",
    "        print(\" \", end=\"\")\n",
    "    \n",
    "    # Inner loop for the second half of the pattern\n",
    "    for l in range(i + 1):\n",
    "        print(\"*\", end=\"\")\n",
    "    \n",
    "    # Move to the next line after each row\n",
    "    print()"
   ]
  }
 ],
 "metadata": {
  "kernelspec": {
   "display_name": "Python 3",
   "language": "python",
   "name": "python3"
  },
  "language_info": {
   "codemirror_mode": {
    "name": "ipython",
    "version": 3
   },
   "file_extension": ".py",
   "mimetype": "text/x-python",
   "name": "python",
   "nbconvert_exporter": "python",
   "pygments_lexer": "ipython3",
   "version": "3.11.4"
  },
  "orig_nbformat": 4
 },
 "nbformat": 4,
 "nbformat_minor": 2
}
